{
 "cells": [
  {
   "cell_type": "code",
   "execution_count": 1,
   "metadata": {},
   "outputs": [],
   "source": [
    "import pandas as pd\n",
    "import math\n",
    "import numpy as np\n",
    "import os\n",
    "import sklearn.metrics\n",
    "\n",
    "file_dir = os.path.abspath('')"
   ]
  },
  {
   "cell_type": "code",
   "execution_count": 5,
   "metadata": {},
   "outputs": [
    {
     "name": "stdout",
     "output_type": "stream",
     "text": [
      "139.97364104155366\n",
      "1025\n",
      "Percent  0.13655964979663773\n",
      "-681.12976\n",
      "0.0\n",
      "75.3417955162823\n"
     ]
    }
   ],
   "source": [
    "# Quantify irradiance\n",
    "forecast_path = file_dir + \"\\\\weather_and_load\\\\18.389862_-66.09338_day_ahead.csv\"\n",
    "actual_data = file_dir + \"\\\\weather_and_load\\\\18.389862_-66.09338_18.3898_-66.0936_psm3_60_2018.csv\"\n",
    "\n",
    "forecast_df = pd.read_csv(forecast_path, header=2)\n",
    "nsrdb_df = pd.read_csv(actual_data, header=2)\n",
    "\n",
    "nsrdb_dni = nsrdb_df.GHI.values\n",
    "forecast_dni = forecast_df.GHI.values\n",
    "\n",
    "MSE = np.square(np.subtract(np.array(nsrdb_dni, dtype=float), np.array(forecast_dni, dtype=float))).mean()\n",
    "\n",
    "print(math.sqrt(MSE))\n",
    "print(max(nsrdb_dni))\n",
    "print(\"Percent \", math.sqrt(MSE)/max(nsrdb_dni))\n",
    "print(min(np.subtract(np.array(nsrdb_dni, dtype=float), np.array(forecast_dni, dtype=float))))\n",
    "print(np.median(np.subtract(np.array(nsrdb_dni, dtype=float), np.array(forecast_dni, dtype=float))))\n",
    "print(sklearn.metrics.mean_absolute_error(nsrdb_dni, forecast_dni))"
   ]
  },
  {
   "cell_type": "code",
   "execution_count": 8,
   "metadata": {},
   "outputs": [
    {
     "name": "stdout",
     "output_type": "stream",
     "text": [
      "Index(['Time stamp', 'Power'], dtype='object')\n",
      "0.0\n",
      "3625.39\n",
      "Percent  0.0\n",
      "0.0\n",
      "0.0\n",
      "0.0\n"
     ]
    }
   ],
   "source": [
    "# Quantify power error\n",
    "forecast_path = file_dir + \"\\\\pv_production_forecast.csv\"\n",
    "actual_data = file_dir + \"\\\\pv_production_actual.csv\"\n",
    "\n",
    "forecast_df = pd.read_csv(forecast_path)\n",
    "nsrdb_df = pd.read_csv(actual_data)\n",
    "\n",
    "print(forecast_df.columns)\n",
    "\n",
    "nsrdb_dni = nsrdb_df.Power.values\n",
    "forecast_dni = forecast_df.Power.values\n",
    "\n",
    "MSE = np.square(np.subtract(np.array(nsrdb_dni, dtype=float), np.array(forecast_dni, dtype=float))).mean()\n",
    "\n",
    "print(math.sqrt(MSE))\n",
    "print(max(nsrdb_dni))\n",
    "print(\"Percent \", math.sqrt(MSE)/max(nsrdb_dni))\n",
    "print(min(np.subtract(np.array(nsrdb_dni, dtype=float), np.array(forecast_dni, dtype=float))))\n",
    "print(np.median(np.subtract(np.array(nsrdb_dni, dtype=float), np.array(forecast_dni, dtype=float))))\n",
    "print(sklearn.metrics.mean_absolute_error(nsrdb_dni, forecast_dni))"
   ]
  },
  {
   "cell_type": "code",
   "execution_count": null,
   "metadata": {},
   "outputs": [],
   "source": [
    "# Quantify load error\n",
    "forecast_path = file_dir + \"\\\\weather_and_load\\\\san_juan_hospital_forecast_load.csv\"\n",
    "actual_data = file_dir + \"\\\\weather_and_load\\\\san_juan_hospital_actual_load.csv\"\n",
    "\n",
    "forecast_df = pd.read_csv(forecast_path)\n",
    "nsrdb_df = pd.read_csv(actual_data)\n",
    "\n",
    "print(forecast_df.columns)\n",
    "\n",
    "nsrdb_dni = nsrdb_df.Power.values\n",
    "forecast_dni = forecast_df.Power.values\n",
    "\n",
    "MSE = np.square(np.subtract(np.array(nsrdb_dni, dtype=float), np.array(forecast_dni, dtype=float))).mean()\n",
    "\n",
    "print(math.sqrt(MSE))\n",
    "print(max(nsrdb_dni))\n",
    "print(\"Percent \", math.sqrt(MSE)/max(nsrdb_dni))\n",
    "print(min(np.subtract(np.array(nsrdb_dni, dtype=float), np.array(forecast_dni, dtype=float))))\n",
    "print(np.median(np.subtract(np.array(nsrdb_dni, dtype=float), np.array(forecast_dni, dtype=float))))\n",
    "print(sklearn.metrics.mean_absolute_error(nsrdb_dni, forecast_dni))"
   ]
  }
 ],
 "metadata": {
  "kernelspec": {
   "display_name": "pysam_pip",
   "language": "python",
   "name": "python3"
  },
  "language_info": {
   "codemirror_mode": {
    "name": "ipython",
    "version": 3
   },
   "file_extension": ".py",
   "mimetype": "text/x-python",
   "name": "python",
   "nbconvert_exporter": "python",
   "pygments_lexer": "ipython3",
   "version": "3.10.10"
  },
  "orig_nbformat": 4
 },
 "nbformat": 4,
 "nbformat_minor": 2
}
