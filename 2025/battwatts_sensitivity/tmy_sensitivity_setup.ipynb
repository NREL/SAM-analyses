{
 "cells": [
  {
   "cell_type": "markdown",
   "metadata": {},
   "source": [
    "Script to quantify error induced by using TMY weather with actual year load in a variety of locations with a variety of utility rate structures\n",
    "\n",
    "Requires:\n",
    "nrel-pysam\n",
    "requests\n",
    "numpy\n",
    "pandas"
   ]
  },
  {
   "cell_type": "code",
   "execution_count": 40,
   "metadata": {},
   "outputs": [],
   "source": [
    "import numpy as np\n",
    "import pandas as pd\n",
    "import json\n",
    "import os\n",
    "\n",
    "import PySAM.Battery as battery_model\n",
    "import PySAM.Pvsamv1 as pv_model\n",
    "import PySAM.Utilityrate5 as utility_rate\n",
    "import PySAM.Cashloan as cashloan\n",
    "import PySAM.ResourceTools\n",
    "import PySAM.UtilityRateTools"
   ]
  },
  {
   "cell_type": "code",
   "execution_count": null,
   "metadata": {},
   "outputs": [],
   "source": [
    "def get_pysam_json(json_file_path):\n",
    "    \"\"\"\n",
    "    Open a PySAM JSON file and return as a dictionary\n",
    "    \"\"\"\n",
    "    with open(json_file_path) as f:\n",
    "        dic = json.load(f)\n",
    "    return dic\n",
    "\n",
    "\n",
    "def get_load_profile(load_path, desired_timestep_minutes):\n",
    "    \"\"\"\n",
    "    Get data out of a CSV file\n",
    "    Original ResStock data is 15 minute kWh data - need hourly for TMY comparison and to convert to kW\n",
    "    \"\"\"\n",
    "    df = pd.read_csv(load_path)\n",
    "    timeseries = df[\"out.electricity.total.energy_consumption\"].values\n",
    "    \n",
    "    if desired_timestep_minutes < 15:\n",
    "        raise ValueError(\"get_load_profile is not set up for timesteps less than 15 minutes.\")\n",
    "    elif desired_timestep_minutes == 15:\n",
    "        return timeseries * 4 # Convert from kWh to kW\n",
    "    elif desired_timestep_minutes % 15 != 0: \n",
    "        raise ValueError(\"get_load_profile is not set up for that aren't evenly divisiable by 15. Pick 15, 30, or 60.\")\n",
    "    else:\n",
    "        averaged_timesteps = []\n",
    "        steps_per_step = desired_timestep_minutes / 15\n",
    "        steps_per_hr = 60 / desired_timestep_minutes\n",
    "        step = 0\n",
    "        avg_kwhs = 0\n",
    "        for kwh in timeseries:\n",
    "             avg_kwhs += kwh\n",
    "             step += 1\n",
    "             if step == steps_per_step:\n",
    "                 averaged_timesteps.append(avg_kwhs * steps_per_hr)\n",
    "                 step = 0\n",
    "                 avg_kwhs = 0\n",
    "        return averaged_timesteps"
   ]
  },
  {
   "cell_type": "code",
   "execution_count": 43,
   "metadata": {},
   "outputs": [],
   "source": [
    "def run_location(weather_file, rate_path, load_path):\n",
    "\n",
    "    # Utility rate data is contained here since the battery needs it for dispatch calculations\n",
    "    rate_setup = get_pysam_json(rate_path)\n",
    "    wf_timestep = 60\n",
    "    load_profile = get_load_profile(load_path, wf_timestep)\n",
    "\n",
    "    pv = pv_model.default(\"PVBatteryResidential\") # This runs both PV and battery\n",
    "    ur = utility_rate.from_existing(pv, \"PVBatteryResidential\")\n",
    "    cl = cashloan.from_existing(ur, \"PVBatteryResidential\")\n",
    "\n",
    "    for k, v in rate_setup.items():\n",
    "        try:\n",
    "            pv.value(k, v)\n",
    "        except AttributeError:\n",
    "            if \"batt_adjust\" in k:\n",
    "                pass\n",
    "            else:\n",
    "                print(\"Failed to assign PV key \" + str(k))\n",
    "\n",
    "    pv.value(\"solar_resource_file\", str(weather_file))\n",
    "    pv.value(\"batt_dispatch_choice\", 4) # Retail rates dispatch\n",
    "    pv.value(\"load\", load_profile)\n",
    "\n",
    "    pv.execute()\n",
    "    ur.execute()\n",
    "    cl.execute()\n",
    "\n",
    "    output_data = {}\n",
    "    output_data.update(pv.Outputs.export())\n",
    "    output_data.update(ur.Outputs.export())\n",
    "    output_data.update(cl.Outputs.export())\n",
    "    return output_data\n"
   ]
  },
  {
   "cell_type": "markdown",
   "metadata": {},
   "source": [
    "To generate rate data:\n",
    "\n",
    "- Open the SAM file in sam files\n",
    "- Download the rate data on the utility rates page\n",
    "- Make adjustments as needed (e.g. \"net billing\" for California rates)\n",
    "- Use shift-F5 to export the code and choose \"PySAM JSON\"\n",
    "- Save the untitled_pvsamv1.json file to the rate_data folder and rename it to something more descriptive"
   ]
  },
  {
   "cell_type": "code",
   "execution_count": 53,
   "metadata": {},
   "outputs": [],
   "source": [
    "file_dir = os.path.abspath('')\n",
    "\n",
    "rate_path = file_dir + \"/rate_data/\" + \"jefferson_county_co_tou_pvsamv1.json\"\n",
    "\n",
    "weather_path = file_dir + \"/weather_data/\" + \"39.81_-105.14_nsrdb-GOES-tmy-v4-0-0_60_tmy.csv\"\n",
    "\n",
    "load_path = file_dir + \"/load_data/\" + \"load-data-total-10388-0.csv\"\n",
    "\n",
    "tmy_outputs = run_location(weather_path, rate_path, load_path)\n",
    "\n",
    "\n",
    "weather_path = file_dir + \"/weather_data/\" + \"39.81_-105.14_nsrdb-GOES-aggregated-v4-0-0_60_2018.csv\"\n",
    "\n",
    "amy_outputs = run_location(weather_path, rate_path, load_path)"
   ]
  },
  {
   "cell_type": "code",
   "execution_count": 54,
   "metadata": {},
   "outputs": [
    {
     "name": "stdout",
     "output_type": "stream",
     "text": [
      "-1188.7831844304023\n",
      "-1228.5869349588622\n"
     ]
    }
   ],
   "source": [
    "print(tmy_outputs[\"utility_bill_w_sys\"][1])\n",
    "\n",
    "print(amy_outputs[\"utility_bill_w_sys\"][1])\n"
   ]
  },
  {
   "cell_type": "code",
   "execution_count": 51,
   "metadata": {},
   "outputs": [
    {
     "name": "stdout",
     "output_type": "stream",
     "text": [
      "4106.631250000069\n"
     ]
    }
   ],
   "source": [
    "load_profile = get_load_profile(load_path, 15)\n",
    "\n",
    "print(sum(load_profile[0:8760 * 4]) / 4)"
   ]
  }
 ],
 "metadata": {
  "kernelspec": {
   "display_name": "pysam6",
   "language": "python",
   "name": "python3"
  },
  "language_info": {
   "codemirror_mode": {
    "name": "ipython",
    "version": 3
   },
   "file_extension": ".py",
   "mimetype": "text/x-python",
   "name": "python",
   "nbconvert_exporter": "python",
   "pygments_lexer": "ipython3",
   "version": "3.13.2"
  }
 },
 "nbformat": 4,
 "nbformat_minor": 2
}
